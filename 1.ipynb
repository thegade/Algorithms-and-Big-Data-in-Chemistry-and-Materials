{
 "cells": [
  {
   "cell_type": "markdown",
   "source": [
    "Импорт необходимых библиотек"
   ],
   "metadata": {
    "collapsed": false
   },
   "id": "255121d478eac482"
  },
  {
   "cell_type": "code",
   "execution_count": 1,
   "id": "initial_id",
   "metadata": {
    "collapsed": true,
    "ExecuteTime": {
     "end_time": "2024-04-04T14:13:48.063307Z",
     "start_time": "2024-04-04T14:13:48.059861Z"
    }
   },
   "outputs": [],
   "source": [
    "import pandas as pd"
   ]
  },
  {
   "cell_type": "markdown",
   "source": [
    "Загрузка датасета в виде датафрейма"
   ],
   "metadata": {
    "collapsed": false
   },
   "id": "fff570768547b80b"
  },
  {
   "cell_type": "code",
   "outputs": [
    {
     "data": {
      "text/plain": "            mol_id               smiles          A           B           C  \\\n0            gdb_1                    C  157.71180  157.709970  157.706990   \n1            gdb_2                    N  293.60975  293.541110  191.393970   \n2            gdb_3                    O  799.58812  437.903860  282.945450   \n3            gdb_4                  C#C    0.00000   35.610036   35.610036   \n4            gdb_5                  C#N    0.00000   44.593883   44.593883   \n...            ...                  ...        ...         ...         ...   \n133880  gdb_133881  C1C2C3C4C5OC14C5N23    3.59483    2.198990    1.904230   \n133881  gdb_133882  C1N2C3C2C2C4OC12C34    3.65648    2.142370    1.904390   \n133882  gdb_133883  C1N2C3C4C5C2C13CN45    3.67118    2.143140    1.895010   \n133883  gdb_133884  C1N2C3C4C5CC13C2C45    3.52845    2.151310    1.865820   \n133884  gdb_133885  C1N2C3C4C5OC13C2C45    3.64015    2.217640    1.937930   \n\n            mu  alpha    homo    lumo     gap        r2      zpve          u0  \\\n0       0.0000  13.21 -0.3877  0.1171  0.5048   35.3641  0.044749  -40.478930   \n1       1.6256   9.46 -0.2570  0.0829  0.3399   26.1563  0.034358  -56.525887   \n2       1.8511   6.31 -0.2928  0.0687  0.3615   19.0002  0.021375  -76.404702   \n3       0.0000  16.28 -0.2845  0.0506  0.3351   59.5248  0.026841  -77.308427   \n4       2.8937  12.99 -0.3604  0.0191  0.3796   48.7476  0.016601  -93.411888   \n...        ...    ...     ...     ...     ...       ...       ...         ...   \n133880  1.6637  69.37 -0.2254  0.0588  0.2842  760.7472  0.127406 -400.633868   \n133881  1.2976  69.52 -0.2393  0.0608  0.3002  762.6354  0.127495 -400.629713   \n133882  1.2480  73.60 -0.2233  0.0720  0.2953  780.3553  0.140458 -380.753918   \n133883  1.9576  77.40 -0.2122  0.0881  0.3003  803.1904  0.152222 -364.720374   \n133884  0.8626  69.48 -0.2316  0.0742  0.3058  756.3557  0.127862 -400.633052   \n\n              u298        h298        g298      cv  \n0       -40.476062  -40.475117  -40.498597   6.469  \n1       -56.523026  -56.522082  -56.544961   6.316  \n2       -76.401867  -76.400922  -76.422349   6.002  \n3       -77.305527  -77.304583  -77.327429   8.574  \n4       -93.409370  -93.408425  -93.431246   6.278  \n...            ...         ...         ...     ...  \n133880 -400.628599 -400.627654 -400.663098  23.658  \n133881 -400.624444 -400.623500 -400.658942  23.697  \n133882 -380.748619 -380.747675 -380.783148  23.972  \n133883 -364.714974 -364.714030 -364.749650  24.796  \n133884 -400.627892 -400.626948 -400.662186  23.434  \n\n[133885 rows x 17 columns]",
      "text/html": "<div>\n<style scoped>\n    .dataframe tbody tr th:only-of-type {\n        vertical-align: middle;\n    }\n\n    .dataframe tbody tr th {\n        vertical-align: top;\n    }\n\n    .dataframe thead th {\n        text-align: right;\n    }\n</style>\n<table border=\"1\" class=\"dataframe\">\n  <thead>\n    <tr style=\"text-align: right;\">\n      <th></th>\n      <th>mol_id</th>\n      <th>smiles</th>\n      <th>A</th>\n      <th>B</th>\n      <th>C</th>\n      <th>mu</th>\n      <th>alpha</th>\n      <th>homo</th>\n      <th>lumo</th>\n      <th>gap</th>\n      <th>r2</th>\n      <th>zpve</th>\n      <th>u0</th>\n      <th>u298</th>\n      <th>h298</th>\n      <th>g298</th>\n      <th>cv</th>\n    </tr>\n  </thead>\n  <tbody>\n    <tr>\n      <th>0</th>\n      <td>gdb_1</td>\n      <td>C</td>\n      <td>157.71180</td>\n      <td>157.709970</td>\n      <td>157.706990</td>\n      <td>0.0000</td>\n      <td>13.21</td>\n      <td>-0.3877</td>\n      <td>0.1171</td>\n      <td>0.5048</td>\n      <td>35.3641</td>\n      <td>0.044749</td>\n      <td>-40.478930</td>\n      <td>-40.476062</td>\n      <td>-40.475117</td>\n      <td>-40.498597</td>\n      <td>6.469</td>\n    </tr>\n    <tr>\n      <th>1</th>\n      <td>gdb_2</td>\n      <td>N</td>\n      <td>293.60975</td>\n      <td>293.541110</td>\n      <td>191.393970</td>\n      <td>1.6256</td>\n      <td>9.46</td>\n      <td>-0.2570</td>\n      <td>0.0829</td>\n      <td>0.3399</td>\n      <td>26.1563</td>\n      <td>0.034358</td>\n      <td>-56.525887</td>\n      <td>-56.523026</td>\n      <td>-56.522082</td>\n      <td>-56.544961</td>\n      <td>6.316</td>\n    </tr>\n    <tr>\n      <th>2</th>\n      <td>gdb_3</td>\n      <td>O</td>\n      <td>799.58812</td>\n      <td>437.903860</td>\n      <td>282.945450</td>\n      <td>1.8511</td>\n      <td>6.31</td>\n      <td>-0.2928</td>\n      <td>0.0687</td>\n      <td>0.3615</td>\n      <td>19.0002</td>\n      <td>0.021375</td>\n      <td>-76.404702</td>\n      <td>-76.401867</td>\n      <td>-76.400922</td>\n      <td>-76.422349</td>\n      <td>6.002</td>\n    </tr>\n    <tr>\n      <th>3</th>\n      <td>gdb_4</td>\n      <td>C#C</td>\n      <td>0.00000</td>\n      <td>35.610036</td>\n      <td>35.610036</td>\n      <td>0.0000</td>\n      <td>16.28</td>\n      <td>-0.2845</td>\n      <td>0.0506</td>\n      <td>0.3351</td>\n      <td>59.5248</td>\n      <td>0.026841</td>\n      <td>-77.308427</td>\n      <td>-77.305527</td>\n      <td>-77.304583</td>\n      <td>-77.327429</td>\n      <td>8.574</td>\n    </tr>\n    <tr>\n      <th>4</th>\n      <td>gdb_5</td>\n      <td>C#N</td>\n      <td>0.00000</td>\n      <td>44.593883</td>\n      <td>44.593883</td>\n      <td>2.8937</td>\n      <td>12.99</td>\n      <td>-0.3604</td>\n      <td>0.0191</td>\n      <td>0.3796</td>\n      <td>48.7476</td>\n      <td>0.016601</td>\n      <td>-93.411888</td>\n      <td>-93.409370</td>\n      <td>-93.408425</td>\n      <td>-93.431246</td>\n      <td>6.278</td>\n    </tr>\n    <tr>\n      <th>...</th>\n      <td>...</td>\n      <td>...</td>\n      <td>...</td>\n      <td>...</td>\n      <td>...</td>\n      <td>...</td>\n      <td>...</td>\n      <td>...</td>\n      <td>...</td>\n      <td>...</td>\n      <td>...</td>\n      <td>...</td>\n      <td>...</td>\n      <td>...</td>\n      <td>...</td>\n      <td>...</td>\n      <td>...</td>\n    </tr>\n    <tr>\n      <th>133880</th>\n      <td>gdb_133881</td>\n      <td>C1C2C3C4C5OC14C5N23</td>\n      <td>3.59483</td>\n      <td>2.198990</td>\n      <td>1.904230</td>\n      <td>1.6637</td>\n      <td>69.37</td>\n      <td>-0.2254</td>\n      <td>0.0588</td>\n      <td>0.2842</td>\n      <td>760.7472</td>\n      <td>0.127406</td>\n      <td>-400.633868</td>\n      <td>-400.628599</td>\n      <td>-400.627654</td>\n      <td>-400.663098</td>\n      <td>23.658</td>\n    </tr>\n    <tr>\n      <th>133881</th>\n      <td>gdb_133882</td>\n      <td>C1N2C3C2C2C4OC12C34</td>\n      <td>3.65648</td>\n      <td>2.142370</td>\n      <td>1.904390</td>\n      <td>1.2976</td>\n      <td>69.52</td>\n      <td>-0.2393</td>\n      <td>0.0608</td>\n      <td>0.3002</td>\n      <td>762.6354</td>\n      <td>0.127495</td>\n      <td>-400.629713</td>\n      <td>-400.624444</td>\n      <td>-400.623500</td>\n      <td>-400.658942</td>\n      <td>23.697</td>\n    </tr>\n    <tr>\n      <th>133882</th>\n      <td>gdb_133883</td>\n      <td>C1N2C3C4C5C2C13CN45</td>\n      <td>3.67118</td>\n      <td>2.143140</td>\n      <td>1.895010</td>\n      <td>1.2480</td>\n      <td>73.60</td>\n      <td>-0.2233</td>\n      <td>0.0720</td>\n      <td>0.2953</td>\n      <td>780.3553</td>\n      <td>0.140458</td>\n      <td>-380.753918</td>\n      <td>-380.748619</td>\n      <td>-380.747675</td>\n      <td>-380.783148</td>\n      <td>23.972</td>\n    </tr>\n    <tr>\n      <th>133883</th>\n      <td>gdb_133884</td>\n      <td>C1N2C3C4C5CC13C2C45</td>\n      <td>3.52845</td>\n      <td>2.151310</td>\n      <td>1.865820</td>\n      <td>1.9576</td>\n      <td>77.40</td>\n      <td>-0.2122</td>\n      <td>0.0881</td>\n      <td>0.3003</td>\n      <td>803.1904</td>\n      <td>0.152222</td>\n      <td>-364.720374</td>\n      <td>-364.714974</td>\n      <td>-364.714030</td>\n      <td>-364.749650</td>\n      <td>24.796</td>\n    </tr>\n    <tr>\n      <th>133884</th>\n      <td>gdb_133885</td>\n      <td>C1N2C3C4C5OC13C2C45</td>\n      <td>3.64015</td>\n      <td>2.217640</td>\n      <td>1.937930</td>\n      <td>0.8626</td>\n      <td>69.48</td>\n      <td>-0.2316</td>\n      <td>0.0742</td>\n      <td>0.3058</td>\n      <td>756.3557</td>\n      <td>0.127862</td>\n      <td>-400.633052</td>\n      <td>-400.627892</td>\n      <td>-400.626948</td>\n      <td>-400.662186</td>\n      <td>23.434</td>\n    </tr>\n  </tbody>\n</table>\n<p>133885 rows × 17 columns</p>\n</div>"
     },
     "execution_count": 7,
     "metadata": {},
     "output_type": "execute_result"
    }
   ],
   "source": [
    "df = pd.read_csv('qm9.csv')\n",
    "df"
   ],
   "metadata": {
    "collapsed": false,
    "ExecuteTime": {
     "end_time": "2024-04-04T14:19:30.793108Z",
     "start_time": "2024-04-04T14:19:30.609101Z"
    }
   },
   "id": "b061c076624e4a43",
   "execution_count": 7
  },
  {
   "cell_type": "markdown",
   "source": [
    "Сэмплирование датасета на 20000 строк с учетом своего random_state"
   ],
   "metadata": {
    "collapsed": false
   },
   "id": "6a0f6782d2d278d4"
  },
  {
   "cell_type": "code",
   "outputs": [
    {
     "data": {
      "text/plain": "            mol_id             smiles        A        B        C      mu  \\\n1182      gdb_1183       CC(O)(CO)C=O  3.92303  1.94016  1.81986  3.0185   \n63811    gdb_63812  CC1(O)CC2C3OC2C13  3.32583  1.40837  1.39035  3.0869   \n88110    gdb_88111     CN1CC11COC=NC1  2.85410  1.46427  1.24798  2.7784   \n45246    gdb_45247   N=C1OC2CC3CN3C12  3.11548  1.74961  1.39550  3.1310   \n1286      gdb_1287       C(CC(=O)N)CO  7.94292  1.05193  0.95777  4.6000   \n...            ...                ...      ...      ...      ...     ...   \n121986  gdb_121987       CCOCC(C)NC=O  3.33982  0.71139  0.65851  4.2515   \n90464    gdb_90465   CC1OC2C(O1)C2C#C  2.89387  1.40465  1.22578  0.7938   \n45072    gdb_45073    O=C1CC2OC2C1C#N  2.55757  1.70878  1.15943  6.2082   \n49723    gdb_49724    O=CN1C2CCC2C1=O  2.88444  1.46304  1.10132  5.9030   \n111496  gdb_111497      CCC1C2CC2CC1O  2.62543  1.34266  1.10777  1.6097   \n\n        alpha    homo    lumo     gap         r2      zpve          u0  \\\n1182    53.44 -0.2529 -0.0296  0.2233   761.0814  0.121563 -382.793238   \n63811   73.96 -0.2271  0.0641  0.2912  1018.7370  0.159144 -422.968258   \n88110   76.24 -0.2279  0.0265  0.2544  1075.5431  0.160570 -419.183124   \n45246   72.10 -0.2410  0.0160  0.2570   939.9058  0.138638 -417.981149   \n1286    57.85 -0.2448  0.0347  0.2796  1158.8734  0.135165 -362.944759   \n...       ...     ...     ...     ...        ...       ...         ...   \n121986  81.67 -0.2446  0.0373  0.2819  1797.8051  0.192071 -441.513864   \n90464   74.43 -0.2318  0.0432  0.2751  1079.3986  0.134251 -421.771394   \n45072   65.46 -0.2751 -0.0482  0.2270  1006.0739  0.100844 -436.702045   \n49723   71.44 -0.2552 -0.0377  0.2175  1086.0858  0.124673 -437.910227   \n111496  84.31 -0.2551  0.0667  0.3218  1226.2091  0.206613 -388.293154   \n\n              u298        h298        g298      cv  \n1182   -382.784780 -382.783836 -382.826010  29.559  \n63811  -422.960642 -422.959698 -422.999894  31.172  \n88110  -419.174949 -419.174005 -419.215837  31.141  \n45246  -417.974376 -417.973431 -418.012327  27.215  \n1286   -362.935797 -362.934853 -362.979581  29.830  \n...            ...         ...         ...     ...  \n121986 -441.502819 -441.501874 -441.551787  38.173  \n90464  -421.763050 -421.762106 -421.804479  31.591  \n45072  -436.694659 -436.693714 -436.734545  27.228  \n49723  -437.902465 -437.901521 -437.943095  28.283  \n111496 -388.283842 -388.282898 -388.327146  35.977  \n\n[20000 rows x 17 columns]",
      "text/html": "<div>\n<style scoped>\n    .dataframe tbody tr th:only-of-type {\n        vertical-align: middle;\n    }\n\n    .dataframe tbody tr th {\n        vertical-align: top;\n    }\n\n    .dataframe thead th {\n        text-align: right;\n    }\n</style>\n<table border=\"1\" class=\"dataframe\">\n  <thead>\n    <tr style=\"text-align: right;\">\n      <th></th>\n      <th>mol_id</th>\n      <th>smiles</th>\n      <th>A</th>\n      <th>B</th>\n      <th>C</th>\n      <th>mu</th>\n      <th>alpha</th>\n      <th>homo</th>\n      <th>lumo</th>\n      <th>gap</th>\n      <th>r2</th>\n      <th>zpve</th>\n      <th>u0</th>\n      <th>u298</th>\n      <th>h298</th>\n      <th>g298</th>\n      <th>cv</th>\n    </tr>\n  </thead>\n  <tbody>\n    <tr>\n      <th>1182</th>\n      <td>gdb_1183</td>\n      <td>CC(O)(CO)C=O</td>\n      <td>3.92303</td>\n      <td>1.94016</td>\n      <td>1.81986</td>\n      <td>3.0185</td>\n      <td>53.44</td>\n      <td>-0.2529</td>\n      <td>-0.0296</td>\n      <td>0.2233</td>\n      <td>761.0814</td>\n      <td>0.121563</td>\n      <td>-382.793238</td>\n      <td>-382.784780</td>\n      <td>-382.783836</td>\n      <td>-382.826010</td>\n      <td>29.559</td>\n    </tr>\n    <tr>\n      <th>63811</th>\n      <td>gdb_63812</td>\n      <td>CC1(O)CC2C3OC2C13</td>\n      <td>3.32583</td>\n      <td>1.40837</td>\n      <td>1.39035</td>\n      <td>3.0869</td>\n      <td>73.96</td>\n      <td>-0.2271</td>\n      <td>0.0641</td>\n      <td>0.2912</td>\n      <td>1018.7370</td>\n      <td>0.159144</td>\n      <td>-422.968258</td>\n      <td>-422.960642</td>\n      <td>-422.959698</td>\n      <td>-422.999894</td>\n      <td>31.172</td>\n    </tr>\n    <tr>\n      <th>88110</th>\n      <td>gdb_88111</td>\n      <td>CN1CC11COC=NC1</td>\n      <td>2.85410</td>\n      <td>1.46427</td>\n      <td>1.24798</td>\n      <td>2.7784</td>\n      <td>76.24</td>\n      <td>-0.2279</td>\n      <td>0.0265</td>\n      <td>0.2544</td>\n      <td>1075.5431</td>\n      <td>0.160570</td>\n      <td>-419.183124</td>\n      <td>-419.174949</td>\n      <td>-419.174005</td>\n      <td>-419.215837</td>\n      <td>31.141</td>\n    </tr>\n    <tr>\n      <th>45246</th>\n      <td>gdb_45247</td>\n      <td>N=C1OC2CC3CN3C12</td>\n      <td>3.11548</td>\n      <td>1.74961</td>\n      <td>1.39550</td>\n      <td>3.1310</td>\n      <td>72.10</td>\n      <td>-0.2410</td>\n      <td>0.0160</td>\n      <td>0.2570</td>\n      <td>939.9058</td>\n      <td>0.138638</td>\n      <td>-417.981149</td>\n      <td>-417.974376</td>\n      <td>-417.973431</td>\n      <td>-418.012327</td>\n      <td>27.215</td>\n    </tr>\n    <tr>\n      <th>1286</th>\n      <td>gdb_1287</td>\n      <td>C(CC(=O)N)CO</td>\n      <td>7.94292</td>\n      <td>1.05193</td>\n      <td>0.95777</td>\n      <td>4.6000</td>\n      <td>57.85</td>\n      <td>-0.2448</td>\n      <td>0.0347</td>\n      <td>0.2796</td>\n      <td>1158.8734</td>\n      <td>0.135165</td>\n      <td>-362.944759</td>\n      <td>-362.935797</td>\n      <td>-362.934853</td>\n      <td>-362.979581</td>\n      <td>29.830</td>\n    </tr>\n    <tr>\n      <th>...</th>\n      <td>...</td>\n      <td>...</td>\n      <td>...</td>\n      <td>...</td>\n      <td>...</td>\n      <td>...</td>\n      <td>...</td>\n      <td>...</td>\n      <td>...</td>\n      <td>...</td>\n      <td>...</td>\n      <td>...</td>\n      <td>...</td>\n      <td>...</td>\n      <td>...</td>\n      <td>...</td>\n      <td>...</td>\n    </tr>\n    <tr>\n      <th>121986</th>\n      <td>gdb_121987</td>\n      <td>CCOCC(C)NC=O</td>\n      <td>3.33982</td>\n      <td>0.71139</td>\n      <td>0.65851</td>\n      <td>4.2515</td>\n      <td>81.67</td>\n      <td>-0.2446</td>\n      <td>0.0373</td>\n      <td>0.2819</td>\n      <td>1797.8051</td>\n      <td>0.192071</td>\n      <td>-441.513864</td>\n      <td>-441.502819</td>\n      <td>-441.501874</td>\n      <td>-441.551787</td>\n      <td>38.173</td>\n    </tr>\n    <tr>\n      <th>90464</th>\n      <td>gdb_90465</td>\n      <td>CC1OC2C(O1)C2C#C</td>\n      <td>2.89387</td>\n      <td>1.40465</td>\n      <td>1.22578</td>\n      <td>0.7938</td>\n      <td>74.43</td>\n      <td>-0.2318</td>\n      <td>0.0432</td>\n      <td>0.2751</td>\n      <td>1079.3986</td>\n      <td>0.134251</td>\n      <td>-421.771394</td>\n      <td>-421.763050</td>\n      <td>-421.762106</td>\n      <td>-421.804479</td>\n      <td>31.591</td>\n    </tr>\n    <tr>\n      <th>45072</th>\n      <td>gdb_45073</td>\n      <td>O=C1CC2OC2C1C#N</td>\n      <td>2.55757</td>\n      <td>1.70878</td>\n      <td>1.15943</td>\n      <td>6.2082</td>\n      <td>65.46</td>\n      <td>-0.2751</td>\n      <td>-0.0482</td>\n      <td>0.2270</td>\n      <td>1006.0739</td>\n      <td>0.100844</td>\n      <td>-436.702045</td>\n      <td>-436.694659</td>\n      <td>-436.693714</td>\n      <td>-436.734545</td>\n      <td>27.228</td>\n    </tr>\n    <tr>\n      <th>49723</th>\n      <td>gdb_49724</td>\n      <td>O=CN1C2CCC2C1=O</td>\n      <td>2.88444</td>\n      <td>1.46304</td>\n      <td>1.10132</td>\n      <td>5.9030</td>\n      <td>71.44</td>\n      <td>-0.2552</td>\n      <td>-0.0377</td>\n      <td>0.2175</td>\n      <td>1086.0858</td>\n      <td>0.124673</td>\n      <td>-437.910227</td>\n      <td>-437.902465</td>\n      <td>-437.901521</td>\n      <td>-437.943095</td>\n      <td>28.283</td>\n    </tr>\n    <tr>\n      <th>111496</th>\n      <td>gdb_111497</td>\n      <td>CCC1C2CC2CC1O</td>\n      <td>2.62543</td>\n      <td>1.34266</td>\n      <td>1.10777</td>\n      <td>1.6097</td>\n      <td>84.31</td>\n      <td>-0.2551</td>\n      <td>0.0667</td>\n      <td>0.3218</td>\n      <td>1226.2091</td>\n      <td>0.206613</td>\n      <td>-388.293154</td>\n      <td>-388.283842</td>\n      <td>-388.282898</td>\n      <td>-388.327146</td>\n      <td>35.977</td>\n    </tr>\n  </tbody>\n</table>\n<p>20000 rows × 17 columns</p>\n</div>"
     },
     "execution_count": 6,
     "metadata": {},
     "output_type": "execute_result"
    }
   ],
   "source": [
    "df1 = df.sample(n=20000, random_state=41)\n",
    "df1"
   ],
   "metadata": {
    "collapsed": false,
    "ExecuteTime": {
     "end_time": "2024-04-03T18:46:22.514981Z",
     "start_time": "2024-04-03T18:46:22.498637Z"
    }
   },
   "id": "849806c20c316d27",
   "execution_count": 6
  },
  {
   "cell_type": "markdown",
   "source": [
    "Сохранение датафрейма в формат csv"
   ],
   "metadata": {
    "collapsed": false
   },
   "id": "60232f75e3cf4484"
  },
  {
   "cell_type": "code",
   "outputs": [],
   "source": [
    "df1.to_csv('my_data.csv', index=False)"
   ],
   "metadata": {
    "collapsed": false,
    "ExecuteTime": {
     "end_time": "2024-04-03T18:46:46.467579Z",
     "start_time": "2024-04-03T18:46:46.313412Z"
    }
   },
   "id": "587e0f53827c2fb5",
   "execution_count": 7
  }
 ],
 "metadata": {
  "kernelspec": {
   "display_name": "Python 3",
   "language": "python",
   "name": "python3"
  },
  "language_info": {
   "codemirror_mode": {
    "name": "ipython",
    "version": 2
   },
   "file_extension": ".py",
   "mimetype": "text/x-python",
   "name": "python",
   "nbconvert_exporter": "python",
   "pygments_lexer": "ipython2",
   "version": "2.7.6"
  }
 },
 "nbformat": 4,
 "nbformat_minor": 5
}
